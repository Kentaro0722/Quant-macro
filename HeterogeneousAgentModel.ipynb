{
 "cells": [
  {
   "cell_type": "code",
   "execution_count": 161,
   "metadata": {},
   "outputs": [],
   "source": [
    "import numpy as np\n",
    "from scipy.stats import norm\n",
    "\n",
    "def tauchen(n, mu, rho, sigma):\n",
    "\n",
    "    # n: number of grid points\n",
    "    # mu: mean of the AR(1) process\n",
    "    # rho: AR(1) coeffient\n",
    "    # sigma: standard deviatin of the error term\n",
    "\n",
    "    m = 1 / np.sqrt(1 - rho**2)\n",
    "\n",
    "    # compute the state space\n",
    "    state_space = np.linspace(mu - m*sigma, mu + m*sigma, n)\n",
    "\n",
    "    # compute the distance between grid points\n",
    "    d = (state_space[n-1] - state_space[0]) / (n-1)\n",
    "\n",
    "    # compute the transition probabilities\n",
    "    transition_matrix = np.zeros((n, n))\n",
    "\n",
    "    for i in range(n):\n",
    "        for j in range(n):\n",
    "            if j==0:\n",
    "                transition_matrix[i, 0] = norm.cdf((state_space[0] - rho*state_space[i] + d/2)/sigma)\n",
    "            elif j==n-1:\n",
    "                transition_matrix[i, n-1] = 1.0 - norm.cdf((state_space[n-1] - rho*state_space[i] - d/2)/sigma)\n",
    "            else:\n",
    "                transition_matrix[i, j] = norm.cdf((state_space[j] - rho*state_space[i] + d/2)/sigma) - norm.cdf((state_space[j] - rho*state_space[i] - d/2)/sigma)\n",
    "\n",
    "    return transition_matrix, state_space"
   ]
  },
  {
   "cell_type": "code",
   "execution_count": 162,
   "metadata": {},
   "outputs": [],
   "source": [
    "# function to compile parameters into one thing \"param\"\n",
    "def setPar(\n",
    "    sigma = 1.5, # risk aversion\n",
    "    beta = 0.98, # subject discount factor\n",
    "    rho = 0.6, # labor productivity persistence\n",
    "    sigma_eps = 0.384, # labor productivity std\n",
    "    a_l = 0, # lower bound of asset grids\n",
    "    a_u = 20, # upper bound of asset grids\n",
    "    NA = 401, # number of grids of a\n",
    "    NH = 2, # number of grids of h\n",
    "    mu_h = -0.7, # mean of log h\n",
    "    alpha = 0.25,\n",
    "    delta = 0.03,\n",
    "    ):\n",
    "\n",
    "    # # create a grid of asset holdings\n",
    "    # a = np.linspace(a_l, a_u, NA)\n",
    "\n",
    "    # making grids for ln h and solving for income transition probability using Tauchen's method\n",
    "    pi, h = tauchen(NH, mu_h, rho, sigma_eps)\n",
    "    h = np.exp(h)\n",
    "\n",
    "    # create dictionary with parameters\n",
    "    param = {}\n",
    "    param['sigma'] = sigma\n",
    "    param['beta'] = beta\n",
    "    param['pi'] = pi\n",
    "    param['h'] = h\n",
    "    param['NA'] = NA\n",
    "    param['NH'] = NH\n",
    "    param['a_l'] = a_l\n",
    "    param['a_u'] = a_u\n",
    "    param['alpha'] = alpha\n",
    "    param['delta'] = delta\n",
    "\n",
    "    return param"
   ]
  },
  {
   "cell_type": "code",
   "execution_count": 163,
   "metadata": {},
   "outputs": [],
   "source": [
    "def solve_household(param, r, w):\n",
    "    # opening the box of param\n",
    "    NA = param['NA']\n",
    "    NH = param['NH']\n",
    "    h = param['h']\n",
    "    a_l = param['a_l']\n",
    "    a_u = param['a_u']\n",
    "    sigma = param['sigma']\n",
    "    beta = param['beta']\n",
    "    pi = param['pi']\n",
    "\n",
    "    # create a grid of asset holdings\n",
    "    a = np.linspace(a_l, a_u, NA)\n",
    "\n",
    "    # Initialize some variables\n",
    "    v = np.zeros((NA, NH))\n",
    "    c = np.zeros((NA, NH))\n",
    "    aplus = np.zeros((NA, NH))\n",
    "\n",
    "    v_new = np.zeros((NA, NH))\n",
    "    iaplus = np.full((NA, NH), -10000)\n",
    "    util = np.full((NA, NA, NH), -10000.0)\n",
    "\n",
    "    # calculate utility if the agent chooses asset a[iap] for (a[ia]), h[ih])\n",
    "    for ia in range(NA):\n",
    "        for ih in range(NH):\n",
    "            for iap in range(NA):\n",
    "                cons = w*h[ih] + (1.0 + r)*a[ia] - a[iap]\n",
    "                if cons > 0: # count only if consumption is positive\n",
    "                    util[iap, ia, ih] = cons**(1.0-sigma)/(1.0-sigma)\n",
    "\n",
    "    # iterate on bellman's equation and get the decision rules and the value function\n",
    "    tol = 1e-6\n",
    "    test = 10.0\n",
    "    reward = np.zeros((NA, NA, NH))\n",
    "\n",
    "    while test > tol: # loop until value function converges\n",
    "        for ia in range(NA):\n",
    "            for ih in range(NH):\n",
    "                reward[:, ia, ih] = util[:, ia, ih]\n",
    "                for ihp in range(NH):\n",
    "                    reward[:, ia, ih] += beta*pi[ih, ihp]*v[:, ihp]\n",
    "\n",
    "                v_new[ia, ih] = np.max(reward[:, ia, ih])\n",
    "                iaplus[ia, ih] = np.argmax(reward[:, ia, ih])\n",
    "\n",
    "        test = np.max(abs(v_new - v))\n",
    "        v = v_new\n",
    "\n",
    "    # asset policy function\n",
    "    aplus = a[iaplus]\n",
    "\n",
    "    # consumption policy function\n",
    "    for ia in range(NA):\n",
    "        for ih in range(NH):\n",
    "            c[ia, ih] = w*h[ih] + (1.0 + r)*a[ia] - aplus[ia, ih]\n",
    "\n",
    "    return aplus, iaplus, c"
   ]
  },
  {
   "cell_type": "code",
   "execution_count": 164,
   "metadata": {},
   "outputs": [],
   "source": [
    "def get_distribution(param, decisions):\n",
    "\n",
    "    NA = param['NA']\n",
    "    NH = param['NH']\n",
    "    iaplus = decisions[1]\n",
    "    pi = param['pi']\n",
    "\n",
    "    test = 10 # initialize a test value to be greater than 1e-8\n",
    "    phi = np.ones((NA, NH))/NA/NH # initialize the distribution phi to be uniform\n",
    "\n",
    "    # loop until the test value is less than 1e-8\n",
    "    while test > 1e-8:\n",
    "        phi_new = np.zeros((NA, NH)) # initialize a new distribution phi_new to be all zero values\n",
    "        for ia in range(NA):\n",
    "            for ih in range(NH):\n",
    "                for ihp in range(NH):\n",
    "                    phi_new[iaplus[ia, ih], ihp] += pi[ih, ihp] * phi[ia, ih]\n",
    "\n",
    "        test = np.max(np.abs(phi_new - phi)) # calculate the maximum difference\n",
    "        phi = phi_new # update phi to be phi_new\n",
    "\n",
    "    return phi"
   ]
  },
  {
   "cell_type": "code",
   "execution_count": 165,
   "metadata": {},
   "outputs": [
    {
     "data": {
      "text/plain": [
       "<matplotlib.legend.Legend at 0x1f351f956d0>"
      ]
     },
     "execution_count": 165,
     "metadata": {},
     "output_type": "execute_result"
    },
    {
     "data": {
      "image/png": "[encoded data removed]",
      "text/plain": [
       "<Figure size 640x480 with 1 Axes>"
      ]
     },
     "metadata": {},
     "output_type": "display_data"
    }
   ],
   "source": [
    "import matplotlib.pyplot as plt\n",
    "\n",
    "# setting prices\n",
    "r = 0.04 # interest rate\n",
    "w = 1 # wage\n",
    "\n",
    "param = setPar(beta = 0.98) # parameters\n",
    "decisions = solve_household(param,r,w) # HH problem\n",
    "aplus = decisions[0]\n",
    "c = decisions[2]\n",
    "\n",
    "# grids for figures\n",
    "a_l = param['a_l']\n",
    "a_u = param['a_u']\n",
    "NA = param['NA']\n",
    "a = np.linspace(a_l, a_u, NA)\n",
    "\n",
    "# saving rate for low h\n",
    "plt.plot(a, aplus[:, 0]/(c[:, 0] + aplus[:, 0]), label='low')\n",
    "plt.xlabel(\"asset\")\n",
    "plt.ylabel(\"savings rate\")\n",
    "\n",
    "# saving rate for high h\n",
    "plt.plot(a, aplus[:, 1]/(c[:, 1] + aplus[:, 1]), label='high')\n",
    "plt.xlabel(\"asset\")\n",
    "plt.ylabel(\"savings rate\")\n",
    "\n",
    "plt.legend()"
   ]
  },
  {
   "cell_type": "code",
   "execution_count": 166,
   "metadata": {},
   "outputs": [],
   "source": [
    "phi = get_distribution(param, decisions)"
   ]
  },
  {
   "cell_type": "code",
   "execution_count": 167,
   "metadata": {},
   "outputs": [
    {
     "data": {
      "text/plain": [
       "array([1.68244025e-158, 1.20662902e-156, 4.52086452e-155, 1.17638613e-153,\n",
       "       2.38568448e-152, 4.01309520e-151, 5.82144232e-150, 7.47732914e-149,\n",
       "       8.66773304e-148, 9.19891418e-147, 9.03816932e-146, 8.29461962e-145,\n",
       "       7.16185230e-144, 5.85284752e-143, 4.54993951e-142, 3.37906902e-141,\n",
       "       2.40622757e-140, 1.64819253e-139, 1.08898124e-138, 6.95727892e-138,\n",
       "       4.30734236e-137, 2.58924076e-136, 1.51385199e-135, 8.62228308e-135,\n",
       "       4.79075739e-134, 2.60008721e-133, 1.38001236e-132, 7.17060010e-132,\n",
       "       3.65118068e-131, 1.82351897e-130, 8.94025572e-130, 4.30614605e-129,\n",
       "       2.03910164e-128, 9.49927679e-128, 4.35626421e-127, 1.96771595e-126,\n",
       "       8.75933920e-126, 3.84469955e-125, 1.66472847e-124, 7.11393250e-124,\n",
       "       3.00154883e-123, 1.25090391e-122, 5.15120969e-122, 2.09679612e-121,\n",
       "       8.43940051e-121, 3.35980820e-120, 1.32341746e-119, 5.15922093e-119,\n",
       "       1.99111135e-118, 7.60929943e-118, 2.88031318e-117, 1.08014952e-116,\n",
       "       4.01398463e-116, 1.47845924e-115, 5.39852197e-115, 1.95460244e-114,\n",
       "       7.01847238e-114, 2.49980694e-113, 8.83336050e-113, 3.09723319e-112,\n",
       "       1.07775562e-111, 3.72248006e-111, 1.27636488e-110, 4.34520171e-110,\n",
       "       1.46891816e-109, 4.93168774e-109, 1.64459708e-108, 5.44807554e-108,\n",
       "       1.79307393e-107, 5.86374067e-107, 1.90555335e-106, 6.15437502e-106,\n",
       "       1.97564280e-105, 6.30431903e-105, 1.99993313e-104, 6.30784780e-104,\n",
       "       1.97822181e-103, 6.16929008e-103, 1.91337027e-102, 5.90204533e-102,\n",
       "       1.81084272e-101, 5.52672098e-101, 1.67801527e-100, 5.06871452e-100,\n",
       "       1.52336642e-099, 4.55560158e-099, 1.35566145e-098, 4.01466613e-098,\n",
       "       1.18322692e-097, 3.47083565e-097, 1.01338324e-096, 2.94518515e-096,\n",
       "       8.52070609e-096, 2.45406971e-095, 7.03671783e-095, 2.00885367e-094,\n",
       "       5.71010125e-094, 1.61613822e-093, 4.55484579e-093, 1.27835100e-092,\n",
       "       3.57295938e-092, 9.94551644e-092, 2.75719315e-091, 7.61318649e-091,\n",
       "       2.09384032e-090, 5.73609604e-090, 1.56531798e-089, 4.25519206e-089,\n",
       "       1.15234608e-088, 3.10892478e-088, 8.35635750e-088, 2.23778802e-087,\n",
       "       5.97078308e-087, 1.58733648e-086, 4.20481284e-086, 1.10988659e-085,\n",
       "       2.91930038e-085, 7.65175211e-085, 1.99865724e-084, 5.20264478e-084,\n",
       "       1.34968147e-083, 3.48957240e-083, 8.99206130e-083, 2.30942821e-082,\n",
       "       5.91179862e-082, 1.50839926e-081, 3.83624050e-081, 9.72521624e-081,\n",
       "       2.45757908e-080, 6.19072029e-080, 1.55457166e-079, 3.89158418e-079,\n",
       "       9.71176708e-079, 2.41621774e-078, 5.99307210e-078, 1.48199936e-077,\n",
       "       3.65376725e-077, 8.98125832e-077, 2.20113085e-076, 5.37867927e-076,\n",
       "       1.31049429e-075, 3.18370440e-075, 7.71217226e-075, 1.86283845e-074,\n",
       "       4.48679380e-074, 1.07762406e-073, 2.58093079e-073, 6.16411700e-073,\n",
       "       1.46810867e-072, 3.48694899e-072, 8.25924137e-072, 1.95096231e-071,\n",
       "       4.59598509e-071, 1.07978200e-070, 2.53004305e-070, 5.91235596e-070,\n",
       "       1.37797217e-069, 3.20312426e-069, 7.42620161e-069, 1.71721759e-068,\n",
       "       3.96054987e-068, 9.11093675e-068, 2.09051687e-067, 4.78446116e-067,\n",
       "       1.09221117e-066, 2.48702318e-066, 5.64882350e-066, 1.27981252e-065,\n",
       "       2.89234441e-065, 6.52039641e-065, 1.46630152e-064, 3.28929418e-064,\n",
       "       7.36066531e-064, 1.64312663e-063, 3.65905729e-063, 8.12860684e-063,\n",
       "       1.80142507e-062, 3.98266541e-062, 8.78401886e-062, 1.93276353e-061,\n",
       "       4.24262198e-061, 9.29103643e-061, 2.02988849e-060, 4.42448064e-060,\n",
       "       9.62140198e-060, 2.08739255e-059, 4.51817773e-059, 9.75707254e-059,\n",
       "       2.10221130e-058, 4.51894759e-058, 9.69182997e-058, 2.07388744e-057,\n",
       "       4.42770622e-057, 9.43169787e-057, 2.00457179e-056, 4.25086315e-056,\n",
       "       8.99413645e-056, 1.89876696e-055, 3.99960083e-055, 8.40615352e-055,\n",
       "       1.76285463e-054, 3.68873093e-054, 7.70160906e-054, 1.60447386e-053,\n",
       "       3.33528632e-053, 6.91807808e-053, 1.43183233e-052, 2.95702976e-052,\n",
       "       6.09366338e-052, 1.25303387e-051, 2.57105314e-051, 5.26411590e-051,\n",
       "       1.07549448e-050, 2.19261026e-050, 4.46053879e-050, 9.05498808e-050,\n",
       "       1.83427795e-049, 3.70784079e-049, 7.47924229e-049, 1.50548557e-048,\n",
       "       3.02398681e-048, 6.06134884e-048, 1.21240159e-047, 2.41998820e-047,\n",
       "       4.82026802e-047, 9.58124457e-047, 1.90049633e-046, 3.76190689e-046,\n",
       "       7.43098581e-046, 1.46481793e-045, 2.88151637e-045, 5.65666062e-045,\n",
       "       1.10815897e-044, 2.16644763e-044, 4.22668373e-044, 8.22920605e-044,\n",
       "       1.59890959e-043, 3.10026476e-043, 5.99906609e-043, 1.15845599e-042,\n",
       "       2.23247941e-042, 4.29346950e-042, 8.24030383e-042, 1.57831207e-041,\n",
       "       3.01688108e-041, 5.75492909e-041, 1.09556717e-040, 2.08140229e-040,\n",
       "       3.94631485e-040, 7.46701086e-040, 1.41000875e-039, 2.65715811e-039,\n",
       "       4.99728480e-039, 9.37934342e-039, 1.75684273e-038, 3.28409633e-038,\n",
       "       6.12663280e-038, 1.14064670e-037, 2.11935697e-037, 3.92989586e-037,\n",
       "       7.27247439e-037, 1.34309835e-036, 2.47547234e-036, 4.55337211e-036,\n",
       "       8.35859208e-036, 1.53129239e-035, 2.79967858e-035, 5.10838114e-035,\n",
       "       9.30215251e-035, 1.69047443e-034, 3.06590468e-034, 5.54923931e-034,\n",
       "       1.00238108e-033, 1.80699379e-033, 3.25090757e-033, 5.83682232e-033,\n",
       "       1.04585603e-032, 1.87021084e-032, 3.33758315e-032, 5.94423622e-032,\n",
       "       1.05653044e-031, 1.87408580e-031, 3.31755325e-031, 5.86093296e-031,\n",
       "       1.03332140e-030, 1.81812310e-030, 3.19249086e-030, 5.59440433e-030,\n",
       "       9.78351936e-030, 1.70746832e-029, 2.97389528e-029, 5.16908061e-029,\n",
       "       8.96632883e-029, 1.55213258e-028, 2.68135795e-028, 4.62265620e-028,\n",
       "       7.95313172e-028, 1.36550549e-027, 2.33967914e-027, 4.00060407e-027,\n",
       "       6.82653090e-027, 1.16246137e-026, 1.97542116e-026, 3.34998038e-026,\n",
       "       5.66924016e-026, 9.57427904e-026, 1.61355771e-025, 2.71368007e-025,\n",
       "       4.55435611e-025, 7.62760098e-025, 1.27479392e-024, 2.12608876e-024,\n",
       "       3.53842916e-024, 5.87659277e-024, 9.73923605e-024, 1.61067002e-023,\n",
       "       2.65808453e-023, 4.37733339e-023, 7.19328287e-023, 1.17955810e-022,\n",
       "       1.93011943e-022, 3.15151653e-022, 5.13479875e-022, 8.34821296e-022,\n",
       "       1.35433980e-021, 2.19241884e-021, 3.54143152e-021, 5.70809566e-021,\n",
       "       9.18033000e-021, 1.47325367e-020, 2.35910050e-020, 3.76931524e-020,\n",
       "       6.00928726e-020, 9.55928230e-020, 1.51728340e-019, 2.40294840e-019,\n",
       "       3.79713186e-019, 5.98683823e-019, 9.41818120e-019, 1.47829546e-018,\n",
       "       2.31513904e-018, 3.61752418e-018, 5.63976716e-018, 8.77249348e-018,\n",
       "       1.36142526e-017, 2.10799746e-017, 3.25648060e-017, 5.01909690e-017,\n",
       "       7.71787637e-017, 1.18402705e-016, 1.81223015e-016, 2.76725570e-016,\n",
       "       4.21566085e-016, 6.40705764e-016, 9.71458564e-016, 1.46946295e-015,\n",
       "       2.21746953e-015, 3.33823749e-015, 5.01340931e-015, 7.51105953e-015,\n",
       "       1.12257928e-014, 1.67369462e-014, 2.48928325e-014, 3.69323347e-014,\n",
       "       5.46599120e-014, 8.06967618e-014, 1.18840239e-013, 1.74576704e-013,\n",
       "       2.55811158e-013, 3.73902242e-013, 5.45126050e-013, 7.92740211e-013,\n",
       "       1.14988563e-012, 1.66365335e-012, 2.40076700e-012, 3.45549783e-012,\n",
       "       4.96065511e-012, 7.10279885e-012, 1.01432294e-011, 1.44468551e-011,\n",
       "       2.05217648e-011, 2.90732987e-011, 4.10776814e-011, 5.78819605e-011,\n",
       "       8.13391883e-011, 1.13990646e-010, 1.59310632e-010, 2.22034135e-010,\n",
       "       3.08593909e-010, 4.27701361e-010, 5.91115774e-010, 8.14659155e-010,\n",
       "       1.11955013e-009, 1.53415053e-009, 2.09624352e-009, 2.85599345e-009,\n",
       "       3.87977615e-009, 5.25511551e-009, 7.09702004e-009, 9.55608214e-009,\n",
       "       9.99999964e-001])"
      ]
     },
     "metadata": {},
     "output_type": "display_data"
    },
    {
     "data": {
      "text/plain": [
       "[<matplotlib.lines.Line2D at 0x1f352156f40>]"
      ]
     },
     "execution_count": 167,
     "metadata": {},
     "output_type": "execute_result"
    },
    {
     "data": {
      "image/png": "[encoded data removed]",
      "text/plain": [
       "<Figure size 640x480 with 1 Axes>"
      ]
     },
     "metadata": {},
     "output_type": "display_data"
    }
   ],
   "source": [
    "phi_asset = np.zeros(NA)\n",
    "\n",
    "NH = param['NH']\n",
    "\n",
    "for ia in range(NA):\n",
    "    for ih in range(NH):\n",
    "        phi_asset[ia] += phi[ia, ih]\n",
    "\n",
    "display(phi_asset)\n",
    "\n",
    "plt.plot(a, phi_asset)"
   ]
  },
  {
   "cell_type": "code",
   "execution_count": 168,
   "metadata": {},
   "outputs": [
    {
     "data": {
      "text/plain": [
       "19.999999994768597"
      ]
     },
     "metadata": {},
     "output_type": "display_data"
    },
    {
     "data": {
      "text/plain": [
       "0.7411492011232337"
      ]
     },
     "metadata": {},
     "output_type": "display_data"
    },
    {
     "data": {
      "text/plain": [
       "[<matplotlib.lines.Line2D at 0x1f352010820>]"
      ]
     },
     "execution_count": 168,
     "metadata": {},
     "output_type": "execute_result"
    },
    {
     "data": {
      "image/png": "[encoded data removed]",
      "text/plain": [
       "<Figure size 640x480 with 1 Axes>"
      ]
     },
     "metadata": {},
     "output_type": "display_data"
    }
   ],
   "source": [
    "KK = np.sum(phi*aplus)\n",
    "NH = param['NH']\n",
    "h = param['h']\n",
    "phi_h = np.zeros(NH)\n",
    "\n",
    "for ia in range(NA):\n",
    "    for ih in range(NH):\n",
    "        phi_h[ih] += phi[ia, ih]\n",
    "\n",
    "HH = np.sum(phi_h*h)\n",
    "\n",
    "display(KK)\n",
    "display(HH)\n",
    "\n",
    "plt.plot(h, phi_h)"
   ]
  },
  {
   "cell_type": "code",
   "execution_count": 169,
   "metadata": {},
   "outputs": [
    {
     "data": {
      "text/plain": [
       "[0.7582794168842923, 0.030223055035862076, 1.1418789384127206]"
      ]
     },
     "metadata": {},
     "output_type": "display_data"
    },
    {
     "data": {
      "text/plain": [
       "[0.6066235335074338, 0.022401499064551737, 1.255382089142897]"
      ]
     },
     "metadata": {},
     "output_type": "display_data"
    },
    {
     "data": {
      "text/plain": [
       "[0.48529882680594705, 0.016144254287503466, 1.3461846097270382]"
      ]
     },
     "metadata": {},
     "output_type": "display_data"
    },
    {
     "data": {
      "text/plain": [
       "[0.38823906144475756, 0.011138458465864849, 1.4188266261943512]"
      ]
     },
     "metadata": {},
     "output_type": "display_data"
    },
    {
     "data": {
      "text/plain": [
       "[0.31059124915580605, 0.007133821808553955, 1.4769402393682016]"
      ]
     },
     "metadata": {},
     "output_type": "display_data"
    },
    {
     "data": {
      "text/plain": [
       "[0.24847299932464467, 0.00393011248270524, 1.5234311299072818]"
      ]
     },
     "metadata": {},
     "output_type": "display_data"
    },
    {
     "data": {
      "text/plain": [
       "[0.1987783994597158, 0.0013671450220262673, 1.5606238423385461]"
      ]
     },
     "metadata": {},
     "output_type": "display_data"
    },
    {
     "data": {
      "text/plain": [
       "[0.1590227195677725, -0.000683228946516911, 1.5903780122835576]"
      ]
     },
     "metadata": {},
     "output_type": "display_data"
    },
    {
     "data": {
      "text/plain": [
       "[0.12721817565421786, -0.0023235281213514537, 1.6141813482395666]"
      ]
     },
     "metadata": {},
     "output_type": "display_data"
    },
    {
     "data": {
      "text/plain": [
       "[0.1017745405233743, -0.003635767461219088, 1.633224017004374]"
      ]
     },
     "metadata": {},
     "output_type": "display_data"
    },
    {
     "data": {
      "text/plain": [
       "[0.08141963241869934, -0.0046855589331131955, 1.6484581520162198]"
      ]
     },
     "metadata": {},
     "output_type": "display_data"
    },
    {
     "data": {
      "text/plain": [
       "[0.0807003198965427, -0.004294714854111211, 1.6327089321159134]"
      ]
     },
     "metadata": {},
     "output_type": "display_data"
    },
    {
     "data": {
      "text/plain": [
       "[0.08127576991426774, -0.0052127168474268935, 1.6480460841054514]"
      ]
     },
     "metadata": {},
     "output_type": "display_data"
    },
    {
     "data": {
      "text/plain": [
       "[0.09912161536018976, -0.004531201631208685, 1.6289032762496318]"
      ]
     },
     "metadata": {},
     "output_type": "display_data"
    },
    {
     "data": {
      "text/plain": [
       "[0.06000869986897768, -0.004180950291681341, 1.6172517876153638]"
      ]
     },
     "metadata": {},
     "output_type": "display_data"
    },
    {
     "data": {
      "text/plain": [
       "[0.0968466789772472, -0.005121705197482998, 1.6356803685050116]"
      ]
     },
     "metadata": {},
     "output_type": "display_data"
    },
    {
     "data": {
      "text/plain": [
       "[0.08650310198356383, -0.00446006399642863, 1.6190413893093534]"
      ]
     },
     "metadata": {},
     "output_type": "display_data"
    },
    {
     "data": {
      "text/plain": [
       "[0.04961978169032123, -0.004128544050166456, 1.6094489529175515]"
      ]
     },
     "metadata": {},
     "output_type": "display_data"
    },
    {
     "data": {
      "text/plain": [
       "[0.10470191991657438, -0.0050797802042710895, 1.6294381007467618]"
      ]
     },
     "metadata": {},
     "output_type": "display_data"
    },
    {
     "data": {
      "text/plain": [
       "[0.08017377224364687, -0.004426990276365858, 1.6140561362259376]"
      ]
     },
     "metadata": {},
     "output_type": "display_data"
    },
    {
     "data": {
      "text/plain": [
       "[0.0445220574704368, -0.004102868974521832, 1.6054758460336942]"
      ]
     },
     "metadata": {},
     "output_type": "display_data"
    },
    {
     "data": {
      "text/plain": [
       "[0.10870070187607632, -0.005059240143755391, 1.626259615239676]"
      ]
     },
     "metadata": {},
     "output_type": "display_data"
    },
    {
     "data": {
      "text/plain": [
       "[0.07684012465860313, -0.004411948611884128, 1.6115388818398266]"
      ]
     },
     "metadata": {},
     "output_type": "display_data"
    },
    {
     "data": {
      "text/plain": [
       "[0.041989761419844125, -0.004090835642936448, 1.6034620425248056]"
      ]
     },
     "metadata": {},
     "output_type": "display_data"
    },
    {
     "data": {
      "text/plain": [
       "[0.11072653871655028, -0.005049613478487083, 1.6246485724325652]"
      ]
     },
     "metadata": {},
     "output_type": "display_data"
    },
    {
     "data": {
      "text/plain": [
       "[0.07521051605904128, -0.004404339588133969, 1.6102517431111103]"
      ]
     },
     "metadata": {},
     "output_type": "display_data"
    },
    {
     "data": {
      "text/plain": [
       "[0.040695013667377634, -0.004084748423936321, 1.6024323315418325]"
      ]
     },
     "metadata": {},
     "output_type": "display_data"
    },
    {
     "data": {
      "text/plain": [
       "[0.11176233691852352, -0.005044743703286982, 1.6238248036461866]"
      ]
     },
     "metadata": {},
     "output_type": "display_data"
    },
    {
     "data": {
      "text/plain": [
       "[0.0743409109521852, -0.004400866777981704, 1.609600498381055]"
      ]
     },
     "metadata": {},
     "output_type": "display_data"
    },
    {
     "data": {
      "text/plain": [
       "[0.04004029612717008, -0.004081970175814509, 1.6019113357577883]"
      ]
     },
     "metadata": {},
     "output_type": "display_data"
    },
    {
     "data": {
      "text/plain": [
       "[0.11228611095068952, -0.005042521104789532, 1.6234080070189514]"
      ]
     },
     "metadata": {},
     "output_type": "display_data"
    },
    {
     "data": {
      "text/plain": [
       "[0.0739218917264525, -0.004399088699183745, 1.609267061079267]"
      ]
     },
     "metadata": {},
     "output_type": "display_data"
    },
    {
     "data": {
      "text/plain": [
       "[0.03970508074658409, -0.004080547712776142, 1.6016445859163577]"
      ]
     },
     "metadata": {},
     "output_type": "display_data"
    },
    {
     "data": {
      "text/plain": [
       "[0.11255428325515848, -0.005041383134358838, 1.6231946071458068]"
      ]
     },
     "metadata": {},
     "output_type": "display_data"
    },
    {
     "data": {
      "text/plain": [
       "[0.07370735388287719, -0.004398178322839189, 1.6090963411807513]"
      ]
     },
     "metadata": {},
     "output_type": "display_data"
    },
    {
     "ename": "KeyboardInterrupt",
     "evalue": "",
     "output_type": "error",
     "traceback": [
      "\u001b[1;31m---------------------------------------------------------------------------\u001b[0m",
      "\u001b[1;31mKeyboardInterrupt\u001b[0m                         Traceback (most recent call last)",
      "Cell \u001b[1;32mIn[169], line 18\u001b[0m\n\u001b[0;32m     16\u001b[0m aplus \u001b[38;5;241m=\u001b[39m decisions[\u001b[38;5;241m0\u001b[39m]\n\u001b[0;32m     17\u001b[0m c \u001b[38;5;241m=\u001b[39m decisions[\u001b[38;5;241m2\u001b[39m]\n\u001b[1;32m---> 18\u001b[0m phi \u001b[38;5;241m=\u001b[39m \u001b[43mget_distribution\u001b[49m\u001b[43m(\u001b[49m\u001b[43mparam\u001b[49m\u001b[43m,\u001b[49m\u001b[43m \u001b[49m\u001b[43mdecisions\u001b[49m\u001b[43m)\u001b[49m\n\u001b[0;32m     20\u001b[0m \u001b[38;5;66;03m# aggregation\u001b[39;00m\n\u001b[0;32m     21\u001b[0m KK \u001b[38;5;241m=\u001b[39m np\u001b[38;5;241m.\u001b[39msum(phi\u001b[38;5;241m*\u001b[39maplus)\n",
      "Cell \u001b[1;32mIn[164], line 13\u001b[0m, in \u001b[0;36mget_distribution\u001b[1;34m(param, decisions)\u001b[0m\n\u001b[0;32m     11\u001b[0m \u001b[38;5;66;03m# loop until the test value is less than 1e-8\u001b[39;00m\n\u001b[0;32m     12\u001b[0m \u001b[38;5;28;01mwhile\u001b[39;00m test \u001b[38;5;241m>\u001b[39m \u001b[38;5;241m1e-8\u001b[39m:\n\u001b[1;32m---> 13\u001b[0m     phi_new \u001b[38;5;241m=\u001b[39m \u001b[43mnp\u001b[49m\u001b[38;5;241;43m.\u001b[39;49m\u001b[43mzeros\u001b[49m\u001b[43m(\u001b[49m\u001b[43m(\u001b[49m\u001b[43mNA\u001b[49m\u001b[43m,\u001b[49m\u001b[43m \u001b[49m\u001b[43mNH\u001b[49m\u001b[43m)\u001b[49m\u001b[43m)\u001b[49m \u001b[38;5;66;03m# initialize a new distribution phi_new to be all zero values\u001b[39;00m\n\u001b[0;32m     14\u001b[0m     \u001b[38;5;28;01mfor\u001b[39;00m ia \u001b[38;5;129;01min\u001b[39;00m \u001b[38;5;28mrange\u001b[39m(NA):\n\u001b[0;32m     15\u001b[0m         \u001b[38;5;28;01mfor\u001b[39;00m ih \u001b[38;5;129;01min\u001b[39;00m \u001b[38;5;28mrange\u001b[39m(NH):\n",
      "\u001b[1;31mKeyboardInterrupt\u001b[0m: "
     ]
    }
   ],
   "source": [
    "\n",
    "# setting prices\n",
    "r = 0.04 # interest rate\n",
    "w = 1 # wage\n",
    "\n",
    "param = setPar(beta = 0.98) # parameters\n",
    "\n",
    "alpha = param['alpha']\n",
    "delta = param['delta']\n",
    "NH = param['NH']\n",
    "h = param['h']\n",
    "\n",
    "test = 10\n",
    "while test > 1e-3:\n",
    "\n",
    "    decisions = solve_household(param, r, w) # HH problem\n",
    "    aplus = decisions[0]\n",
    "    c = decisions[2]\n",
    "    phi = get_distribution(param, decisions)\n",
    "\n",
    "    # aggregation\n",
    "    KK = np.sum(phi*aplus)\n",
    "    phi_h = np.zeros(NH)\n",
    "\n",
    "    for ia in range(NA):\n",
    "        for ih in range(NH):\n",
    "            phi_h[ih] += phi[ia, ih]\n",
    "\n",
    "    HH = np.sum(phi_h*h)\n",
    "\n",
    "    # update prices\n",
    "    r_new = alpha * KK**(alpha-1) * HH**(1-alpha) - delta\n",
    "    w_new = (1-alpha) * KK**alpha * HH**(-alpha)\n",
    "\n",
    "    test = abs(w_new - w) + abs(r_new - r)\n",
    "\n",
    "    r = 0.2*r_new + 0.8*r\n",
    "    w = 0.2*w_new + 0.8*w\n",
    "\n",
    "    display([test, r, w])"
   ]
  }
 ],
 "metadata": {
  "kernelspec": {
   "display_name": ".venv",
   "language": "python",
   "name": "python3"
  },
  "language_info": {
   "codemirror_mode": {
    "name": "ipython",
    "version": 3
   },
   "file_extension": ".py",
   "mimetype": "text/x-python",
   "name": "python",
   "nbconvert_exporter": "python",
   "pygments_lexer": "ipython3",
   "version": "3.9.13"
  }
 },
 "nbformat": 4,
 "nbformat_minor": 2
}
