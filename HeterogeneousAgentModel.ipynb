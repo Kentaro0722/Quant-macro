{
 "cells": [
  {
   "cell_type": "code",
   "execution_count": null,
   "metadata": {},
   "outputs": [],
   "source": [
    "import numpy as np\n",
    "from scipy.stats import norm\n",
    "def tauchen(n, mu, rho, sigma):\n",
    "    m = 1 / np.sqrt(1 - rho**2)\n",
    "    state_space = np.linspace(mu - m*sigma, mu +m*sigma, n)\n",
    "    d = (state_space[n-1] - state_space[0]) / (n-1)\n",
    "\n",
    "    transition_matrix = np.zeros((n,n))\n",
    "        for j in range(n):\n",
    "    transition_matrix[0,j] = norm.cdf((state_space[0] - rho*state_space[0] + d/2)/sigma) -"
   ]
  },
  {
   "cell_type": "code",
   "execution_count": null,
   "metadata": {},
   "outputs": [],
   "source": [
    "# setting prices\n",
    "r=0.04 # interest rate\n",
    "w=1 # wage"
   ]
  }
 ],
 "metadata": {
  "language_info": {
   "name": "python"
  }
 },
 "nbformat": 4,
 "nbformat_minor": 2
}
